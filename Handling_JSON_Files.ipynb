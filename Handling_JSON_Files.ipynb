{
 "cells": [
  {
   "cell_type": "markdown",
   "id": "d1511de5",
   "metadata": {},
   "source": [
    "Link to dataset: https://buff.ly/3wV0BZT"
   ]
  },
  {
   "cell_type": "code",
   "execution_count": 6,
   "id": "d6c71c92",
   "metadata": {},
   "outputs": [
    {
     "name": "stdout",
     "output_type": "stream",
     "text": [
      "Collecting flatten_json\n",
      "  Obtaining dependency information for flatten_json from https://files.pythonhosted.org/packages/63/b5/99f20a19b839e04fffab924be192681b797b40bcf83abdfa508371c6273c/flatten_json-0.1.14-py3-none-any.whl.metadata\n",
      "  Downloading flatten_json-0.1.14-py3-none-any.whl.metadata (4.2 kB)\n",
      "Requirement already satisfied: six in c:\\users\\raopo\\anaconda3\\lib\\site-packages (from flatten_json) (1.16.0)\n",
      "Downloading flatten_json-0.1.14-py3-none-any.whl (8.0 kB)\n",
      "Installing collected packages: flatten_json\n",
      "Successfully installed flatten_json-0.1.14\n",
      "Note: you may need to restart the kernel to use updated packages.\n"
     ]
    }
   ],
   "source": [
    "pip install flatten_json"
   ]
  },
  {
   "cell_type": "code",
   "execution_count": 7,
   "id": "734f4c60",
   "metadata": {},
   "outputs": [],
   "source": [
    "import urllib.request\n",
    "import json\n",
    "from flatten_json import flatten\n",
    "import pandas as pd"
   ]
  },
  {
   "cell_type": "markdown",
   "id": "db23b7cf",
   "metadata": {},
   "source": [
    "### 1. Read in the JSON file."
   ]
  },
  {
   "cell_type": "code",
   "execution_count": 5,
   "id": "f51f098f",
   "metadata": {},
   "outputs": [
    {
     "ename": "ModuleNotFoundError",
     "evalue": "No module named 'flatten_json'",
     "output_type": "error",
     "traceback": [
      "\u001b[1;31m---------------------------------------------------------------------------\u001b[0m",
      "\u001b[1;31mModuleNotFoundError\u001b[0m                       Traceback (most recent call last)",
      "Cell \u001b[1;32mIn[5], line 3\u001b[0m\n\u001b[0;32m      1\u001b[0m \u001b[38;5;28;01mimport\u001b[39;00m \u001b[38;5;21;01murllib\u001b[39;00m\u001b[38;5;21;01m.\u001b[39;00m\u001b[38;5;21;01mrequest\u001b[39;00m\n\u001b[0;32m      2\u001b[0m \u001b[38;5;28;01mimport\u001b[39;00m \u001b[38;5;21;01mjson\u001b[39;00m\n\u001b[1;32m----> 3\u001b[0m \u001b[38;5;28;01mfrom\u001b[39;00m \u001b[38;5;21;01mflatten_json\u001b[39;00m \u001b[38;5;28;01mimport\u001b[39;00m flatten\n\u001b[0;32m      4\u001b[0m \u001b[38;5;28;01mimport\u001b[39;00m \u001b[38;5;21;01mpandas\u001b[39;00m \u001b[38;5;28;01mas\u001b[39;00m \u001b[38;5;21;01mpd\u001b[39;00m\n",
      "\u001b[1;31mModuleNotFoundError\u001b[0m: No module named 'flatten_json'"
     ]
    }
   ],
   "source": [
    "import urllib.request\n",
    "import json\n",
    "from flatten_json import flatten\n",
    "import pandas as pd"
   ]
  },
  {
   "cell_type": "code",
   "execution_count": 8,
   "id": "c80e9845",
   "metadata": {},
   "outputs": [],
   "source": [
    "with urllib.request.urlopen('https://buff.ly/3wV0BZT') as url:\n",
    "    data = json.load(url)"
   ]
  },
  {
   "cell_type": "code",
   "execution_count": 9,
   "id": "990536f5",
   "metadata": {},
   "outputs": [
    {
     "data": {
      "text/plain": [
       "{'school_name': 'ABC primary school',\n",
       " 'class': 'Year 1',\n",
       " 'students': [{'id': 'A001',\n",
       "   'name': 'Tom',\n",
       "   'math': 60,\n",
       "   'physics': 66,\n",
       "   'chemistry': 61},\n",
       "  {'id': 'A002', 'name': 'James', 'math': 89, 'physics': 76, 'chemistry': 51},\n",
       "  {'id': 'A003', 'name': 'Jenny', 'math': 79, 'physics': 90, 'chemistry': 78}]}"
      ]
     },
     "execution_count": 9,
     "metadata": {},
     "output_type": "execute_result"
    }
   ],
   "source": [
    "data"
   ]
  },
  {
   "cell_type": "markdown",
   "id": "a90ad82a",
   "metadata": {},
   "source": [
    "### 2. Flatten the nested list from JSON object."
   ]
  },
  {
   "cell_type": "code",
   "execution_count": 11,
   "id": "4c6da8f8",
   "metadata": {},
   "outputs": [
    {
     "data": {
      "text/plain": [
       "{'school_name': 'ABC primary school',\n",
       " 'class': 'Year 1',\n",
       " 'students_0_id': 'A001',\n",
       " 'students_0_name': 'Tom',\n",
       " 'students_0_math': 60,\n",
       " 'students_0_physics': 66,\n",
       " 'students_0_chemistry': 61,\n",
       " 'students_1_id': 'A002',\n",
       " 'students_1_name': 'James',\n",
       " 'students_1_math': 89,\n",
       " 'students_1_physics': 76,\n",
       " 'students_1_chemistry': 51,\n",
       " 'students_2_id': 'A003',\n",
       " 'students_2_name': 'Jenny',\n",
       " 'students_2_math': 79,\n",
       " 'students_2_physics': 90,\n",
       " 'students_2_chemistry': 78}"
      ]
     },
     "execution_count": 11,
     "metadata": {},
     "output_type": "execute_result"
    }
   ],
   "source": [
    "flat_json = flatten(data)\n",
    "flat_json"
   ]
  },
  {
   "cell_type": "markdown",
   "id": "73b75d9c",
   "metadata": {},
   "source": [
    "### 3. Create a dataframe that includes the flatten list and all original columns."
   ]
  },
  {
   "cell_type": "code",
   "execution_count": 13,
   "id": "f47b856c",
   "metadata": {},
   "outputs": [
    {
     "data": {
      "text/html": [
       "<div>\n",
       "<style scoped>\n",
       "    .dataframe tbody tr th:only-of-type {\n",
       "        vertical-align: middle;\n",
       "    }\n",
       "\n",
       "    .dataframe tbody tr th {\n",
       "        vertical-align: top;\n",
       "    }\n",
       "\n",
       "    .dataframe thead th {\n",
       "        text-align: right;\n",
       "    }\n",
       "</style>\n",
       "<table border=\"1\" class=\"dataframe\">\n",
       "  <thead>\n",
       "    <tr style=\"text-align: right;\">\n",
       "      <th></th>\n",
       "      <th>school_name</th>\n",
       "      <th>class</th>\n",
       "      <th>students_0_id</th>\n",
       "      <th>students_0_name</th>\n",
       "      <th>students_0_math</th>\n",
       "      <th>students_0_physics</th>\n",
       "      <th>students_0_chemistry</th>\n",
       "      <th>students_1_id</th>\n",
       "      <th>students_1_name</th>\n",
       "      <th>students_1_math</th>\n",
       "      <th>students_1_physics</th>\n",
       "      <th>students_1_chemistry</th>\n",
       "      <th>students_2_id</th>\n",
       "      <th>students_2_name</th>\n",
       "      <th>students_2_math</th>\n",
       "      <th>students_2_physics</th>\n",
       "      <th>students_2_chemistry</th>\n",
       "    </tr>\n",
       "  </thead>\n",
       "  <tbody>\n",
       "    <tr>\n",
       "      <th>0</th>\n",
       "      <td>ABC primary school</td>\n",
       "      <td>Year 1</td>\n",
       "      <td>A001</td>\n",
       "      <td>Tom</td>\n",
       "      <td>60</td>\n",
       "      <td>66</td>\n",
       "      <td>61</td>\n",
       "      <td>A002</td>\n",
       "      <td>James</td>\n",
       "      <td>89</td>\n",
       "      <td>76</td>\n",
       "      <td>51</td>\n",
       "      <td>A003</td>\n",
       "      <td>Jenny</td>\n",
       "      <td>79</td>\n",
       "      <td>90</td>\n",
       "      <td>78</td>\n",
       "    </tr>\n",
       "  </tbody>\n",
       "</table>\n",
       "</div>"
      ],
      "text/plain": [
       "          school_name   class students_0_id students_0_name  students_0_math  \\\n",
       "0  ABC primary school  Year 1          A001             Tom               60   \n",
       "\n",
       "   students_0_physics  students_0_chemistry students_1_id students_1_name  \\\n",
       "0                  66                    61          A002           James   \n",
       "\n",
       "   students_1_math  students_1_physics  students_1_chemistry students_2_id  \\\n",
       "0               89                  76                    51          A003   \n",
       "\n",
       "  students_2_name  students_2_math  students_2_physics  students_2_chemistry  \n",
       "0           Jenny               79                  90                    78  "
      ]
     },
     "execution_count": 13,
     "metadata": {},
     "output_type": "execute_result"
    }
   ],
   "source": [
    "df = pd.DataFrame(flat_json, index = [0])\n",
    "df"
   ]
  }
 ],
 "metadata": {
  "kernelspec": {
   "display_name": "Python 3 (ipykernel)",
   "language": "python",
   "name": "python3"
  },
  "language_info": {
   "codemirror_mode": {
    "name": "ipython",
    "version": 3
   },
   "file_extension": ".py",
   "mimetype": "text/x-python",
   "name": "python",
   "nbconvert_exporter": "python",
   "pygments_lexer": "ipython3",
   "version": "3.11.5"
  }
 },
 "nbformat": 4,
 "nbformat_minor": 5
}
